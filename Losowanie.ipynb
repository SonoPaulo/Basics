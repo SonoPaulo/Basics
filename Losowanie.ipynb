{
  "nbformat": 4,
  "nbformat_minor": 0,
  "metadata": {
    "colab": {
      "name": "Losowanie",
      "provenance": [],
      "collapsed_sections": [],
      "authorship_tag": "ABX9TyPG00x50Yc/mdIr2VwDY1P6",
      "include_colab_link": true
    },
    "kernelspec": {
      "name": "python3",
      "display_name": "Python 3"
    },
    "language_info": {
      "name": "python"
    }
  },
  "cells": [
    {
      "cell_type": "markdown",
      "metadata": {
        "id": "view-in-github",
        "colab_type": "text"
      },
      "source": [
        "<a href=\"https://colab.research.google.com/github/SonoPaulo/Basics/blob/learning/Losowanie.ipynb\" target=\"_parent\"><img src=\"https://colab.research.google.com/assets/colab-badge.svg\" alt=\"Open In Colab\"/></a>"
      ]
    },
    {
      "cell_type": "markdown",
      "metadata": {
        "id": "xyYYce6HfgqI"
      },
      "source": [
        "#Losowanie - imitacja Lotto - mój pierwszy kod"
      ]
    },
    {
      "cell_type": "code",
      "metadata": {
        "colab": {
          "base_uri": "https://localhost:8080/"
        },
        "id": "xqbagtNvgpaT",
        "outputId": "1109eff8-1b8d-40ef-99ed-231d2c6d51ea"
      },
      "source": [
        "import random\n",
        "\n",
        "# prawdopodobienstwo wylosowania szóstki\n",
        "prawd1 = 1\n",
        "prawd2 = 1\n",
        "a = [49, 48, 47, 46, 45, 44]\n",
        "b = [6, 5, 4, 3, 2, 1]\n",
        "\n",
        "for i in a:\n",
        "    x = i * 1\n",
        "    prawd1 *= x\n",
        "\n",
        "for i in b:\n",
        "    x = i * 1\n",
        "    prawd2 *= x\n",
        "\n",
        "p = int(prawd1 / prawd2)\n",
        "\n",
        "# generator liczb od 1 do 49\n",
        "gen = range(50)\n",
        "zbiór = list(gen)\n",
        "zbiór.pop(0)\n",
        "\n",
        "# losowanie 6 liczb\n",
        "wylosowane_zbiór = []\n",
        "k = 0\n",
        "while (k < 6):\n",
        "    wylosowane = (random.randint(1, 49))\n",
        "    if wylosowane not in wylosowane_zbiór:\n",
        "        wylosowane_zbiór.append(wylosowane)\n",
        "        k += 1\n",
        "    else:\n",
        "        continue\n",
        "\n",
        "# użytkownik wybiera 6 liczb od 1 do 49\n",
        "wybrane = []\n",
        "i = 0\n",
        "while i < 6:\n",
        "    x = int(input(\"Podaj liczbę od 1 do 49:\"))\n",
        "    if (x < 1 or x > 49):\n",
        "        print(\"wybierz od 1 do 49!\")\n",
        "    elif x not in wybrane:\n",
        "        wybrane.append(x)\n",
        "        i += 1\n",
        "    else:\n",
        "        print(\"już wybrałeś tą wartość\")\n",
        "\n",
        "# teraz przedstawienie ile liczb trafił użytkownik\n",
        "los = wylosowane_zbiór\n",
        "los.sort()\n",
        "\n",
        "wybór = wybrane\n",
        "wybór.sort()\n",
        "\n",
        "wspólne = []\n",
        "wspólne.sort()\n",
        "\n",
        "for i in los:\n",
        "    if i in wybór:\n",
        "        wspólne.append(i)\n",
        "\n",
        "ilość = len(wspólne)\n",
        "\n",
        "# prawdopodobienstwo wylosowania liczb użytkownika\n",
        "prawd1 = 1\n",
        "prawd2 = 1\n",
        "a = [49, 48, 47, 46, 45, 44]\n",
        "c = a[0:ilość]\n",
        "\n",
        "gen = range(ilość+1)\n",
        "b = list(gen)\n",
        "b.pop(0)\n",
        "\n",
        "for i in c:\n",
        "    x = i * 1\n",
        "    prawd1 *= x\n",
        "\n",
        "for i in b:\n",
        "    x = i * 1\n",
        "    prawd2 *= x\n",
        "\n",
        "userp = 1/(prawd1 / prawd2)\n",
        "percentage = \"{:.2%}\".format(userp)\n",
        "userp = percentage = \"{:.2%}\".format(userp)\n",
        "\n",
        "# rezultaty\n",
        "print(\"Prawdopodobieństwo wylosowania szóstki wynosi 1 do \", p)\n",
        "\n",
        "if ilość >0:\n",
        "    print(\"Prawdopodobieństwo wylosowania: \", ilość, \"wynosi: \", userp)\n",
        "\n",
        "print(\"Wylosowane liczby to: \", los)\n",
        "print(\"Wybrane przez Ciebie liczby to: \", wybór)\n",
        "print(\"Trafiłeś: \", ilość, \"na 6 liczb. Trafione liczby to: \", wspólne)"
      ],
      "execution_count": 26,
      "outputs": [
        {
          "output_type": "stream",
          "name": "stdout",
          "text": [
            "Podaj liczbę od 1 do 49:14\n",
            "Podaj liczbę od 1 do 49:42\n",
            "Podaj liczbę od 1 do 49:49\n",
            "Podaj liczbę od 1 do 49:7\n",
            "Podaj liczbę od 1 do 49:5\n",
            "Podaj liczbę od 1 do 49:2\n",
            "Prawdopodobieństwo wylosowania szóstki wynosi 1 do  13983816\n",
            "Prawdopodobieństwo wylosowania:  1 wynosi:  2.04%\n",
            "Wylosowane liczby to:  [4, 5, 6, 23, 26, 41]\n",
            "Wybrane przez Ciebie liczby to:  [2, 5, 7, 14, 42, 49]\n",
            "Trafiłeś:  1 na 6 liczb. Trafione liczby to:  [5]\n"
          ]
        }
      ]
    }
  ]
}