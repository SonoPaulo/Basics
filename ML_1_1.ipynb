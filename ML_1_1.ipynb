{
  "nbformat": 4,
  "nbformat_minor": 0,
  "metadata": {
    "colab": {
      "name": "ML_1-1",
      "provenance": [],
      "collapsed_sections": [],
      "authorship_tag": "ABX9TyMtWwWYmh4AYPm79HRZsdTn",
      "include_colab_link": true
    },
    "kernelspec": {
      "name": "python3",
      "display_name": "Python 3"
    },
    "language_info": {
      "name": "python"
    }
  },
  "cells": [
    {
      "cell_type": "markdown",
      "metadata": {
        "id": "view-in-github",
        "colab_type": "text"
      },
      "source": [
        "<a href=\"https://colab.research.google.com/github/SonoPaulo/Basics/blob/main/ML_1_1.ipynb\" target=\"_parent\"><img src=\"https://colab.research.google.com/assets/colab-badge.svg\" alt=\"Open In Colab\"/></a>"
      ]
    },
    {
      "cell_type": "markdown",
      "metadata": {
        "id": "fkB6WJb0UU4W"
      },
      "source": [
        "#Bootcamp - 1 część"
      ]
    },
    {
      "cell_type": "markdown",
      "metadata": {
        "id": "HsxPBpcUWB10"
      },
      "source": [
        "# import bibliotek\n",
        "import numpy as np\n",
        "import pandas as pd\n",
        "import sklearn"
      ]
    },
    {
      "cell_type": "code",
      "metadata": {
        "id": "evuiK9edUcuy"
      },
      "source": [
        "#generowanie danych. klucze i wartości w listach\n",
        "data = {\n",
        "    'size': ['XL', 'L', 'M', 'L', 'M'],\n",
        "    'color': ['red', 'green', 'blue', 'green', 'red'],\n",
        "    'gender': ['female', 'male', 'male', 'female', 'female'],\n",
        "    'price': [199.0, 89.0, 99.0, 129.0, 79.0],\n",
        "    'weight': [500, 450, 300, 380, 410],\n",
        "    'bought': ['yes', 'no', 'yes', 'no', 'yes']\n",
        "}"
      ],
      "execution_count": null,
      "outputs": []
    },
    {
      "cell_type": "code",
      "metadata": {
        "id": "nxHLx48AUfWA"
      },
      "source": [
        "#obiekt dataframe\n",
        "df_raw = pd.DataFrame(data=data)\n",
        "#print(df_raw)"
      ],
      "execution_count": null,
      "outputs": []
    },
    {
      "cell_type": "code",
      "metadata": {
        "id": "eAVmGkU8UglD"
      },
      "source": [
        "#utworzenie kopii danych. Poprzez info pokazujemy podstawowe info z obiektu\n",
        "df = df_raw.copy()\n",
        "#print(df.info())"
      ],
      "execution_count": null,
      "outputs": []
    },
    {
      "cell_type": "code",
      "metadata": {
        "id": "GfwrIQrWUipn"
      },
      "source": [
        "#zmiana typu danych z object na zmienne kategoryczne i wstępna eksploracja\n",
        "#astype zmienia typ danych\n",
        "for col in ['size', 'color', 'gender', 'bought']:\n",
        "    df[col] = df[col].astype('category')"
      ],
      "execution_count": null,
      "outputs": []
    },
    {
      "cell_type": "code",
      "metadata": {
        "id": "UZWW0pQFUjne"
      },
      "source": [
        "df['weight'] = df['weight'].astype('float')\n",
        "#print(df.info())"
      ],
      "execution_count": null,
      "outputs": []
    },
    {
      "cell_type": "code",
      "metadata": {
        "id": "o-25yvYJUkhA"
      },
      "source": [
        "#metoda wyświetla statystyki dla kolumn numerycznych\n",
        "#print(df.describe())"
      ],
      "execution_count": null,
      "outputs": []
    },
    {
      "cell_type": "code",
      "metadata": {
        "id": "VXhazgHaUlc2"
      },
      "source": [
        "#to samo co wyżej, ale transpozycja\n",
        "#print(df.describe().T)"
      ],
      "execution_count": null,
      "outputs": []
    },
    {
      "cell_type": "code",
      "metadata": {
        "id": "l2NeDXr4Um6j"
      },
      "source": [
        "#poniższy parametr dodaje do wyświetlenia statystyk również kolumny kategoryczne\n",
        "#print(df.describe(include=['category']).T)"
      ],
      "execution_count": null,
      "outputs": []
    },
    {
      "cell_type": "code",
      "metadata": {
        "id": "wndyW9APUoWs"
      },
      "source": [
        "#print(df)"
      ],
      "execution_count": null,
      "outputs": []
    },
    {
      "cell_type": "code",
      "metadata": {
        "id": "jFWjQARoUpwJ"
      },
      "source": [
        "#mapowanie zmiennej docelowej bought - 0 nie kupił, 1 kupił\n",
        "from sklearn.preprocessing import LabelEncoder"
      ],
      "execution_count": null,
      "outputs": []
    },
    {
      "cell_type": "code",
      "metadata": {
        "id": "yuzetre8Uqqn"
      },
      "source": [
        "#instancja klasy\n",
        "le = LabelEncoder()"
      ],
      "execution_count": null,
      "outputs": []
    },
    {
      "cell_type": "code",
      "metadata": {
        "id": "Ql4LFn5hUrgz"
      },
      "source": [
        "#metoda dopasuje encoder do naszej zmiennej\n",
        "le.fit(df['bought'])"
      ],
      "execution_count": null,
      "outputs": []
    },
    {
      "cell_type": "code",
      "metadata": {
        "id": "oT_1DJa_UsRy"
      },
      "source": [
        "#metoda mapuje i dopasowuje do modelu\n",
        "le.transform(df['bought'])\n",
        "#print(le.transform(df['bought']))"
      ],
      "execution_count": null,
      "outputs": []
    },
    {
      "cell_type": "code",
      "metadata": {
        "id": "A10Ig_5iUtV2"
      },
      "source": [
        "#można od razu tak, żeby było szybciej\n",
        "le.fit_transform(df['bought'])\n",
        "#print(le.fit_transform(df['bought']))"
      ],
      "execution_count": null,
      "outputs": []
    },
    {
      "cell_type": "code",
      "metadata": {
        "id": "Y8na42uhUuMb"
      },
      "source": [
        "#tutaj informacja o tym jak wygląda mapowanie\n",
        "le.classes_\n",
        "#print(le.classes_)"
      ],
      "execution_count": null,
      "outputs": []
    },
    {
      "cell_type": "code",
      "metadata": {
        "id": "hhAGmlpAUvHb"
      },
      "source": [
        "#przypisanie naszych zmian do dataframe\n",
        "df['bought'] = le.fit_transform(df['bought'])\n",
        "#print(df)"
      ],
      "execution_count": null,
      "outputs": []
    },
    {
      "cell_type": "code",
      "metadata": {
        "id": "jGxrOXfdUv-5"
      },
      "source": [
        "#powrót do postaci sprzed mapowania zmiennej bought i ponownie trwałe przypisanie\n",
        "le.inverse_transform(df['bought'])\n",
        "df['bought'] = le.inverse_transform(df['bought'])\n",
        "#print(df)"
      ],
      "execution_count": null,
      "outputs": []
    },
    {
      "cell_type": "code",
      "metadata": {
        "id": "8v_52MU2UwpK"
      },
      "source": [
        "#start części drugiej bootcampa\n",
        "# macierz rzadka - sparse=False używawna jest w sytuacjach, kiedy tylko w jednym miejscu jest 1,a  w pozostałych 0. W celu oszczędzenia pamięci\n",
        "from sklearn.preprocessing import OneHotEncoder\n",
        "encoder = OneHotEncoder(sparse=False)\n",
        "encoder.fit(df[['size']])"
      ],
      "execution_count": null,
      "outputs": []
    },
    {
      "cell_type": "code",
      "metadata": {
        "id": "AiCdhSfdUxex"
      },
      "source": [
        "#macierz\n",
        "encoder.transform(df[['size']])\n",
        "#print(encoder.transform(df[['size']]))"
      ],
      "execution_count": null,
      "outputs": []
    },
    {
      "cell_type": "code",
      "metadata": {
        "id": "3m0nC-3hUyQz"
      },
      "source": [
        "#kategorie macierzy - podgląd rozstawienia\n",
        "encoder.categories\n",
        "#print(encoder.categories_)"
      ],
      "execution_count": null,
      "outputs": []
    },
    {
      "cell_type": "code",
      "metadata": {
        "id": "Jf9EJRY0UzGG"
      },
      "source": [
        "#w celu uniknięcia liniowej zależności pomiędzy zmiennymi wykonujemy drop. Usuwa pierwsza z kolumn\n",
        "encoder = OneHotEncoder(drop='first', sparse=False)\n",
        "encoder.fit(df[['size']])\n",
        "encoder.transform(df[['size']])"
      ],
      "execution_count": null,
      "outputs": []
    },
    {
      "cell_type": "code",
      "metadata": {
        "id": "7vq5TYRnU0Qi"
      },
      "source": [
        "#po kodowaniu zero-jedynkowym, mamy n-1 kolumn, które zostały zakodowane\n",
        "\n",
        "#print(df)"
      ],
      "execution_count": null,
      "outputs": []
    },
    {
      "cell_type": "code",
      "metadata": {
        "id": "PrZPt_iaU1aY"
      },
      "source": [
        "#przekazujemy cały obiekt df do pandas get dummies\n",
        "#kolumnny przestawne\n",
        "pd.get_dummies(data=df)\n",
        "#print(pd.get_dummies(data=df))"
      ],
      "execution_count": null,
      "outputs": []
    },
    {
      "cell_type": "code",
      "metadata": {
        "id": "cJPGKeg7U2R_"
      },
      "source": [
        "#poniższa komenda usunie pierwszą kolumnę size, color oraz bought.\n",
        "pd.get_dummies(data=df, drop_first=True)\n",
        "#print(pd.get_dummies(data=df, drop_first=True))"
      ],
      "execution_count": null,
      "outputs": []
    },
    {
      "cell_type": "code",
      "metadata": {
        "id": "GmUuXQsbU3M-"
      },
      "source": [
        "#każda kolumna będzie się nazywała według ustalonego prefixu\n",
        "pd.get_dummies(data=df, drop_first=True, prefix='new')"
      ],
      "execution_count": null,
      "outputs": []
    },
    {
      "cell_type": "code",
      "metadata": {
        "id": "ePwaaiIgU4F3"
      },
      "source": [
        "#separator w nazwie kolumn\n",
        "pd.get_dummies(data=df, drop_first=True, prefix_sep='-')"
      ],
      "execution_count": null,
      "outputs": []
    },
    {
      "cell_type": "code",
      "metadata": {
        "id": "K9flg0nlU48k"
      },
      "source": [
        "#tutaj afektujemy tylko wybrane kolumny\n",
        "pd.get_dummies(data=df, drop_first=True, columns=['size'])"
      ],
      "execution_count": null,
      "outputs": []
    },
    {
      "cell_type": "markdown",
      "metadata": {
        "id": "_2yEljikU51G"
      },
      "source": [
        "#start trzeciej części bootcampu\n",
        "#standaryzacja zmiennych\n",
        "#std() - pandas nieobciążony\n",
        "#std() - numpy obciążony"
      ]
    },
    {
      "cell_type": "code",
      "metadata": {
        "id": "aPKqmMmrU6Nc"
      },
      "source": [
        ""
      ],
      "execution_count": null,
      "outputs": []
    },
    {
      "cell_type": "markdown",
      "metadata": {
        "id": "DtxUFmoIU7Ku"
      },
      "source": [
        "#średnia i ochtylenie standardowe kolumny price\n",
        "#print(f\"{df['price']}\\n\")\n",
        "#print(f\"Średnia: {df['price'].mean()}\")\n",
        "#print(f\"Odchylenie standardowe: {df['price'].std():.4f}\")"
      ]
    },
    {
      "cell_type": "code",
      "metadata": {
        "id": "FyNOaoCXU8cx"
      },
      "source": [
        "#standaryzacja - wzór. To wykonujemy\n",
        "(df['price'] - df['price'].mean()) / df['price'].std()"
      ],
      "execution_count": null,
      "outputs": []
    },
    {
      "cell_type": "code",
      "metadata": {
        "id": "0RXqZOAEU9YQ"
      },
      "source": [
        "#funkcja standaryzująca\n",
        "def standardize(x):\n",
        "    return (x - x.mean()) / x.std()"
      ],
      "execution_count": null,
      "outputs": []
    },
    {
      "cell_type": "code",
      "metadata": {
        "id": "xYRRtjqHU-RW"
      },
      "source": [
        "standardize(df['price'])\n",
        "#print(standardize(df['price']))"
      ],
      "execution_count": null,
      "outputs": []
    },
    {
      "cell_type": "code",
      "metadata": {
        "id": "2KsGEcQQU_Hh"
      },
      "source": [
        "#gotowa funkcja zaimplementowana w bibliotece sklearn\n",
        "from sklearn.preprocessing import scale\n",
        "scale(df['price'])"
      ],
      "execution_count": null,
      "outputs": []
    },
    {
      "cell_type": "code",
      "metadata": {
        "id": "3TCslP0lU__D"
      },
      "source": [
        "# klasa - trochę lepsza od powyższej fukncji, pozwala zachować na przyszłość te wartości statystyk.\n",
        "# także przekształcenie rezultatów do formy list jedna pod drugą\n",
        "from sklearn.preprocessing import StandardScaler\n",
        "scaler = StandardScaler()\n",
        "scaler.fit(df[['price']])\n",
        "scaler.transform(df[['price']])"
      ],
      "execution_count": null,
      "outputs": []
    },
    {
      "cell_type": "code",
      "metadata": {
        "id": "iLvKppz8VA1M"
      },
      "source": [
        "#właściwe standaryzowanie dwóch kolumn\n",
        "scaler = StandardScaler()\n",
        "df[['price', 'weight']] = scaler.fit_transform(df[['price', 'weight']])\n",
        "#print(df)"
      ],
      "execution_count": null,
      "outputs": []
    },
    {
      "cell_type": "markdown",
      "metadata": {
        "id": "PfoRKte0VBkx"
      },
      "source": [
        "#od początku...\n",
        "#####\n",
        "#####\n",
        "#####"
      ]
    },
    {
      "cell_type": "code",
      "metadata": {
        "id": "enO1pnMjVCU4"
      },
      "source": [
        "#przywrócenie modelu do pierwotnej wersji\n",
        "df = df_raw.copy()\n",
        "#print(df)\n"
      ],
      "execution_count": null,
      "outputs": []
    },
    {
      "cell_type": "code",
      "metadata": {
        "id": "qaEsujJFVDIR"
      },
      "source": [
        "#kodujemy zmienną docelową bought\n",
        "le = LabelEncoder()"
      ],
      "execution_count": null,
      "outputs": []
    },
    {
      "cell_type": "code",
      "metadata": {
        "id": "zEKUSkCAVD7M"
      },
      "source": [
        "#przypisujemy do tej kolumny to co zostanie zwrócone przez metodę fit transform\n",
        "df['bought'] = le.fit_transform(df['bought'])"
      ],
      "execution_count": null,
      "outputs": []
    },
    {
      "cell_type": "code",
      "metadata": {
        "id": "Vag6ca8cVEpS"
      },
      "source": [
        "#tworzymy scaler, który pozwala nam ustandaryzować zmienne numeryczne i przypisujemy\n",
        "scaler = StandardScaler()\n",
        "df[['price', 'weight']] = scaler.fit_transform(df[['price', 'weight']])"
      ],
      "execution_count": null,
      "outputs": []
    },
    {
      "cell_type": "code",
      "metadata": {
        "id": "_5OZwAKEVFZv"
      },
      "source": [
        "#usuwamy niepotrzebne kolumny\n",
        "df = pd.get_dummies(data=df, drop_first=True)\n",
        "print(df)"
      ],
      "execution_count": null,
      "outputs": []
    }
  ]
}