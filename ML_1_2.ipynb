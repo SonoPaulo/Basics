{
  "nbformat": 4,
  "nbformat_minor": 0,
  "metadata": {
    "colab": {
      "name": "ML - 1-2",
      "provenance": [],
      "collapsed_sections": [],
      "authorship_tag": "ABX9TyNmUuELXS/ZHuxi/ZLje7t9",
      "include_colab_link": true
    },
    "kernelspec": {
      "name": "python3",
      "display_name": "Python 3"
    },
    "language_info": {
      "name": "python"
    }
  },
  "cells": [
    {
      "cell_type": "markdown",
      "metadata": {
        "id": "view-in-github",
        "colab_type": "text"
      },
      "source": [
        "<a href=\"https://colab.research.google.com/github/SonoPaulo/Basics/blob/main/ML_1_2.ipynb\" target=\"_parent\"><img src=\"https://colab.research.google.com/assets/colab-badge.svg\" alt=\"Open In Colab\"/></a>"
      ]
    },
    {
      "cell_type": "code",
      "metadata": {
        "id": "x7Pzwoc4Xwxg"
      },
      "source": [
        "Bootcamp pt.1"
      ],
      "execution_count": null,
      "outputs": []
    },
    {
      "cell_type": "code",
      "metadata": {
        "id": "LfKC1PtoX5o0"
      },
      "source": [
        "#braki danych\n",
        "\n",
        "import numpy as np\n",
        "import pandas as pd\n",
        "import sklearn\n",
        "\n",
        "#generowanie danych\n",
        "data = {\n",
        "    'size': ['XL', 'L', 'M', np.nan, 'M', 'M'],\n",
        "    'color': ['red', 'green', 'blue', 'green', 'red', 'green'],\n",
        "    'gender': ['female', 'male', np.nan, 'female', 'female', 'male'],\n",
        "    'price': [199.0, 89.0, np.nan, 129.0, 79.0, 89.0],\n",
        "    'weight': [500, 450, 300, np.nan, 410, np.nan],\n",
        "    'bought': ['yes', 'no', 'yes', 'no', 'yes', 'no']\n",
        "}"
      ],
      "execution_count": null,
      "outputs": []
    },
    {
      "cell_type": "code",
      "metadata": {
        "id": "5Tbw4XpDX6Fb"
      },
      "source": [
        "df_raw = pd.DataFrame(data=data)\n",
        "#print(df_raw)"
      ],
      "execution_count": null,
      "outputs": []
    },
    {
      "cell_type": "code",
      "metadata": {
        "id": "y991NHdxX7Mk"
      },
      "source": [
        "#kopia danych\n",
        "df = df_raw.copy()\n",
        "#df.info()"
      ],
      "execution_count": null,
      "outputs": []
    },
    {
      "cell_type": "code",
      "metadata": {
        "id": "mWKBn-OuX8hf"
      },
      "source": [
        "#sprawdzanie braków\n",
        "df.isnull()\n",
        "#print(df.isnull())"
      ],
      "execution_count": null,
      "outputs": []
    },
    {
      "cell_type": "code",
      "metadata": {
        "id": "6-Hypxx3X9kd"
      },
      "source": [
        "#ilość braków w kolumnach\n",
        "df.isnull().sum()\n",
        "#print(df.isnull().sum())"
      ],
      "execution_count": null,
      "outputs": []
    },
    {
      "cell_type": "code",
      "metadata": {
        "id": "VFxnpCQ1X-YN"
      },
      "source": [
        "#suma braków ogółem\n",
        "df.isnull().sum().sum()\n"
      ],
      "execution_count": null,
      "outputs": []
    },
    {
      "cell_type": "code",
      "metadata": {
        "id": "BkRqmee_X_zm"
      },
      "source": [
        "#udział braków w ogóle kolumny\n",
        "df.isnull().sum() / len(df)\n",
        "#print(df.isnull().sum() / len(df))"
      ],
      "execution_count": null,
      "outputs": []
    },
    {
      "cell_type": "code",
      "metadata": {
        "id": "i-C1cjwmYAx3"
      },
      "source": [
        "#uzupełnianie braków - Simpleimputer\n",
        "df[['weight']]\n",
        "#print(df[['weight']])"
      ],
      "execution_count": null,
      "outputs": []
    },
    {
      "cell_type": "code",
      "metadata": {
        "id": "EKturTDWYBrv"
      },
      "source": [
        "#importowanie klasy z biblioteki\n",
        "from sklearn.impute import SimpleImputer\n",
        "# strategy: 'mean', 'median', 'most_frequent', 'constant'\n",
        "#missing value =np.nan - oznacza to, że wartości puste są określane jako nan.\n",
        "#strategia obrana to średnia\n",
        "imputer = SimpleImputer(missing_values=np.nan, strategy='mean')\n",
        "imputer.fit(df[['weight']])\n"
      ],
      "execution_count": null,
      "outputs": []
    },
    {
      "cell_type": "code",
      "metadata": {
        "id": "LgN5V-q0YCzB"
      },
      "source": [
        "# poniższa komenda pokazuje wartość jaka będzie zastępować nan\n",
        "imputer.statistics_"
      ],
      "execution_count": null,
      "outputs": []
    },
    {
      "cell_type": "code",
      "metadata": {
        "id": "mo6_Ur24YDyZ"
      },
      "source": [
        "#tym sposobem transferujemy średnie wartości w miejsce null w naszą kolumnę\n",
        "imputer.transform(df[['weight']])\n"
      ],
      "execution_count": null,
      "outputs": []
    },
    {
      "cell_type": "code",
      "metadata": {
        "id": "vQ0iF58uYFJT"
      },
      "source": [
        "#standardowe przypisanie\n",
        "df['weight'] = imputer.transform(df[['weight']])\n",
        "#print(df)"
      ],
      "execution_count": null,
      "outputs": []
    },
    {
      "cell_type": "code",
      "metadata": {
        "id": "rr2YQKYXYGHy"
      },
      "source": [
        "#tym razem kolumnę price uzupełniamy stałą wartością\n",
        "imputer = SimpleImputer(missing_values=np.nan, strategy='constant', fill_value=99.0)\n",
        "#połączenie fit i transform\n",
        "imputer.fit_transform(df[['price']])"
      ],
      "execution_count": null,
      "outputs": []
    },
    {
      "cell_type": "code",
      "metadata": {
        "id": "z7H5xv2-YHAz"
      },
      "source": [
        "imputer = SimpleImputer(missing_values=np.nan, strategy='constant', fill_value='L')\n",
        "imputer.fit_transform(df[['size']])"
      ],
      "execution_count": null,
      "outputs": []
    },
    {
      "cell_type": "code",
      "metadata": {
        "id": "CpMn2vGIYIAy"
      },
      "source": [
        "#dwóch ostatnich nie przypisywaliśmy, ponieważ poniżej będą przedstawione inne metody\n",
        "#print(df)"
      ],
      "execution_count": null,
      "outputs": []
    },
    {
      "cell_type": "code",
      "metadata": {
        "id": "8cCDphG8YJCU"
      },
      "source": [
        "#najczęściej występująca\n",
        "imputer = SimpleImputer(missing_values=np.nan, strategy='most_frequent')\n",
        "imputer.fit_transform(df[['size']])"
      ],
      "execution_count": null,
      "outputs": []
    },
    {
      "cell_type": "code",
      "metadata": {
        "id": "Oe9ATuKgYKLy"
      },
      "source": [
        "#skorzystanie z kopii - przywrócenie do stanu pierwotnego\n",
        "df = df_raw.copy()\n",
        "#print(df)\n"
      ],
      "execution_count": null,
      "outputs": []
    },
    {
      "cell_type": "code",
      "metadata": {
        "id": "ZVMGCWW3YMOe"
      },
      "source": [
        "#odnoszenie się do poszczególnej kolumny i wskazanie na T/F gdzie występują braki\n",
        "pd.isnull(df['weight'])"
      ],
      "execution_count": null,
      "outputs": []
    },
    {
      "cell_type": "code",
      "metadata": {
        "id": "Tb3uycL0YNzK"
      },
      "source": [
        "#dzięki powyższej masce jesteśmy w stanie pokazać te wiersze gdzie występują wspomniane braki\n",
        "df[pd.isnull(df['weight'])]"
      ],
      "execution_count": null,
      "outputs": []
    },
    {
      "cell_type": "code",
      "metadata": {
        "id": "_wHqZhFZYOHg"
      },
      "source": [
        "#ze znakiem tyldy - przeciwieństwo - wszystkie, w których nie występują braki\n",
        "df[~pd.isnull(df['weight'])]"
      ],
      "execution_count": null,
      "outputs": []
    },
    {
      "cell_type": "markdown",
      "metadata": {
        "id": "Q4yMYNmqYPr4"
      },
      "source": [
        "#ogólnie można używać isnull lub notnull"
      ]
    },
    {
      "cell_type": "code",
      "metadata": {
        "id": "BzUBgLm1YQpv"
      },
      "source": [
        "#metoda fillna uzupełnia wszystkie braki danych stałą wartością, np. 'brak\n",
        "df.fillna(value='brak')\n",
        "df.fillna(value=0.0)"
      ],
      "execution_count": null,
      "outputs": []
    },
    {
      "cell_type": "code",
      "metadata": {
        "id": "TWz_MbtXYSAJ"
      },
      "source": [
        "#metoda fillna na konkretnej kolumnie\n",
        "#inplace=True oznacza dokonanie zmiany, a więc nie musimy tego przypisywać jak wcześniej\n",
        "df['size'].fillna(value='L', inplace=True)"
      ],
      "execution_count": null,
      "outputs": []
    },
    {
      "cell_type": "code",
      "metadata": {
        "id": "eRYCeXM1YTGB"
      },
      "source": [
        "#usunięcie wszystkich wierszy z brakami danych\n",
        "#jeśli chcemy sparametryzować usuwanie - np. 1 brak zostawiamy, >2 usuwamy\n",
        "#wtedy należy prześledzić parametry tej metody i odpowiednio zastosować\n",
        "df.dropna()"
      ],
      "execution_count": null,
      "outputs": []
    },
    {
      "cell_type": "code",
      "metadata": {
        "id": "Ac06O3zJYUtc"
      },
      "source": [
        "#w ten sposób po prostu przypisujemy nasz model bez wierszy z pustymi\n",
        "df = df.dropna()\n",
        "#print(df)\n"
      ],
      "execution_count": null,
      "outputs": []
    },
    {
      "cell_type": "code",
      "metadata": {
        "id": "gqTzORQwYVob"
      },
      "source": [
        "########\n",
        "#teraz braki danych w szeregach czasowych"
      ],
      "execution_count": null,
      "outputs": []
    },
    {
      "cell_type": "code",
      "metadata": {
        "id": "X4mAZiHnYW6k"
      },
      "source": [
        "#tworzenie obiektu\n",
        "data = {'price': [108, 109, 110, 110, 109, np.nan, np.nan, 112, 111, 111]}\n",
        "date_range = pd.date_range(start='01-01-2020 09:00', end='01-01-2020 18:00', periods=10)\n"
      ],
      "execution_count": null,
      "outputs": []
    },
    {
      "cell_type": "code",
      "metadata": {
        "id": "eKbu6TmnYY7B"
      },
      "source": [
        "df = pd.DataFrame(data=data, index=date_range)\n",
        "#print(df)"
      ],
      "execution_count": null,
      "outputs": []
    },
    {
      "cell_type": "code",
      "metadata": {
        "id": "9zJBuQ_JYZr4"
      },
      "source": [
        "#import podstawowej biblioteki do wizualizacji w języku python\n",
        "#wyświetlamy wykres liniowy\n",
        "from pandas.plotting import register_matplotlib_converters\n",
        "import matplotlib.pyplot as plt\n",
        "import seaborn as sns\n",
        "register_matplotlib_converters()\n",
        "sns.set()"
      ],
      "execution_count": null,
      "outputs": []
    },
    {
      "cell_type": "code",
      "metadata": {
        "id": "jh-SAj8GYaiZ"
      },
      "source": [
        "plt.figure(figsize=(10, 4))\n",
        "plt.title('Braki danych')\n",
        "#_ = plt.plot(df.price)\n",
        "plt.plot(df.price)\n",
        "#plt.show()"
      ],
      "execution_count": null,
      "outputs": []
    },
    {
      "cell_type": "code",
      "metadata": {
        "id": "sI5mEhNTYbZy"
      },
      "source": [
        "#taki sam wykres jak powyżej, ale z użyciem innej biblioteki. Wygląd trochę inny\n",
        "#tutaj pokazuję ten wykres w przeglądarce. Na tym wykresie mogę pracować -\n",
        "#można z nim współpracować\n",
        "import plotly.express as px\n",
        "df_plotly = df.reset_index()\n",
        "a = px.line(df_plotly, 'index', 'price', width=600, height=400,\n",
        "        title='Szeregi czasowe - braki danych')\n",
        "#a.show()\n"
      ],
      "execution_count": null,
      "outputs": []
    },
    {
      "cell_type": "code",
      "metadata": {
        "id": "5XkVHBjTYca7"
      },
      "source": [
        "#usunięcie braków\n",
        "# w rezultacie będzie połączenie najprostsze linii\n",
        "df_plotly = df_plotly.dropna()\n",
        "px.line(df_plotly, 'index', 'price', width=600, height=400,\n",
        "        title='Szeregi czasowe - braki danych')"
      ],
      "execution_count": null,
      "outputs": []
    },
    {
      "cell_type": "code",
      "metadata": {
        "id": "Z6MIPC8mYduc"
      },
      "source": [
        "#tutaj wypełniamy braki wartością stałą 0 metodą fillna\n",
        "df_plotly = df.reset_index()\n",
        "df_plotly['price_fill'] = df_plotly['price'].fillna(0)\n",
        "px.line(df_plotly, 'index', 'price_fill', width=600, height=400,\n",
        "        title='Szeregi czasowe - braki danych - wstawienie 0')"
      ],
      "execution_count": null,
      "outputs": []
    },
    {
      "cell_type": "code",
      "metadata": {
        "id": "HZqCK5nlYexc"
      },
      "source": [
        "#wypełniamy braki średnią\n",
        "df_plotly = df.reset_index()\n",
        "df_plotly['price_fill'] = df_plotly['price'].fillna(df_plotly['price'].mean())\n",
        "px.line(df_plotly, 'index', 'price_fill', width=600, height=400,\n",
        "        title='Szeregi czasowe - braki danych - wstawienie średniej')"
      ],
      "execution_count": null,
      "outputs": []
    },
    {
      "cell_type": "code",
      "metadata": {
        "id": "N00td3dBYf00"
      },
      "source": [
        "#zastosowanie interpolacji\n",
        "df_plotly = df.reset_index()\n",
        "df_plotly['price_fill'] = df_plotly['price'].interpolate()\n",
        "px.line(df_plotly, 'index', 'price_fill', width=600, height=400,\n",
        "        title='Szeregi czasowe - braki danych - interpolacja')"
      ],
      "execution_count": null,
      "outputs": []
    },
    {
      "cell_type": "code",
      "metadata": {
        "id": "M7UK6kE8Yg7e"
      },
      "source": [
        "#metoda forwardfill\n",
        "df_plotly = df.reset_index()\n",
        "df_plotly['price_fill'] = df_plotly['price'].fillna(method='ffill')\n",
        "px.line(df_plotly, 'index', 'price_fill', width=600, height=400,\n",
        "        title='Szeregi czasowe - braki danych - forward fill')"
      ],
      "execution_count": null,
      "outputs": []
    },
    {
      "cell_type": "code",
      "metadata": {
        "id": "3T01HyAJYhzu"
      },
      "source": [
        "#metoda backwardfill\n",
        "df_plotly = df.reset_index()\n",
        "df_plotly['price_fill'] = df_plotly['price'].fillna(method='bfill')\n",
        "px.line(df_plotly, 'index', 'price_fill', width=600, height=400,\n",
        "        title='Szeregi czasowe - braki danych')\n"
      ],
      "execution_count": null,
      "outputs": []
    },
    {
      "cell_type": "code",
      "metadata": {
        "id": "ofvlHAgrYi5X"
      },
      "source": [
        ""
      ],
      "execution_count": null,
      "outputs": []
    }
  ]
}